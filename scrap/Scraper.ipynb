{
 "cells": [
  {
   "cell_type": "code",
   "execution_count": 1,
   "metadata": {},
   "outputs": [],
   "source": [
    "from bs4 import BeautifulSoup\n",
    "import pandas as pd"
   ]
  },
  {
   "cell_type": "code",
   "execution_count": 5,
   "metadata": {},
   "outputs": [],
   "source": [
    "def scrap_And_save(html_filename,output_csv_filename):\n",
    "    content = \"\"\n",
    "    df = pd.DataFrame(columns=[\"title\",\"url\"])\n",
    "    with open(f\"./{html_filename}\",\"r\") as file:\n",
    "        content = file.read()\n",
    "    soup = BeautifulSoup(content,features=\"lxml\")\n",
    "    lists =  soup.find_all(\"li\",attrs={\"class\":\"searchRow\"})\n",
    "    for i in lists[::-1]:\n",
    "        df=df.append({\"title\":str(i.find(\"a\").text).strip(),\"url\":str(i.find(\"a\",href=True)['href'])},ignore_index=True)\n",
    "    print(f\"Total Record : {df.shape[0]}\")\n",
    "    df.to_csv(output_csv_filename,index=False)"
   ]
  },
  {
   "cell_type": "code",
   "execution_count": 6,
   "metadata": {},
   "outputs": [
    {
     "name": "stdout",
     "output_type": "stream",
     "text": [
      "Total Record : 107\n"
     ]
    }
   ],
   "source": [
    "scrap_And_save(\"PepCoding _.html\",\"data1.csv\")"
   ]
  },
  {
   "cell_type": "code",
   "execution_count": 7,
   "metadata": {},
   "outputs": [
    {
     "name": "stdout",
     "output_type": "stream",
     "text": [
      "Enter the filname of input file : PepCoding _.html\n",
      "Enter the filename of output csv file : data1.csv\n",
      "Total Record : 107\n"
     ]
    }
   ],
   "source": [
    "if __name__ == \"__main__\":\n",
    "    input_file = input(\"Enter the filname of input file : \")\n",
    "    output_file = input(\"Enter the filename of output csv file : \")\n",
    "    scrap_And_save(input_file,output_file)"
   ]
  },
  {
   "cell_type": "code",
   "execution_count": null,
   "metadata": {},
   "outputs": [],
   "source": []
  }
 ],
 "metadata": {
  "kernelspec": {
   "display_name": "Python 3",
   "language": "python",
   "name": "python3"
  },
  "language_info": {
   "codemirror_mode": {
    "name": "ipython",
    "version": 3
   },
   "file_extension": ".py",
   "mimetype": "text/x-python",
   "name": "python",
   "nbconvert_exporter": "python",
   "pygments_lexer": "ipython3",
   "version": "3.8.5"
  }
 },
 "nbformat": 4,
 "nbformat_minor": 4
}
