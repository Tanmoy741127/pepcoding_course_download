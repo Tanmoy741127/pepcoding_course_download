{
 "cells": [
  {
   "cell_type": "code",
   "execution_count": 3,
   "metadata": {},
   "outputs": [],
   "source": [
    "# Need to install ffmpeg CLi in system\n",
    "# !pip install wget\n",
    "# !pip install pandas\n",
    "# !pip install ffmpeg-python"
   ]
  },
  {
   "cell_type": "code",
   "execution_count": 20,
   "metadata": {},
   "outputs": [],
   "source": [
    "import subprocess,os,wget,time,ffmpeg,re\n",
    "import pandas as pd\n",
    "from ffmpeg import Error as FFmpegError"
   ]
  },
  {
   "cell_type": "code",
   "execution_count": 21,
   "metadata": {},
   "outputs": [],
   "source": [
    "def mux_video_audio(videofile,audiofile, outputfile, base_dir=os.getcwd()):\n",
    "    try:\n",
    "        codec = \"copy\"\n",
    "        process = subprocess.Popen(f\"ffmpeg -i {base_dir}/{videofile} -i {base_dir}/{audiofile} -c {codec} {base_dir}/output/{outputfile}\",shell=True,stdout=subprocess.PIPE,stderr=subprocess.PIPE)\n",
    "        out, err = process.communicate()\n",
    "        errcode = process.returncode\n",
    "#         print(out)\n",
    "#         print(err)\n",
    "#         print(errcode)\n",
    "        print(\"---- Successfully Muxed ----\")\n",
    "        \n",
    "    except Exception as e:\n",
    "        raise Exception(f\"Error in muxing {e}\")\n",
    "\n",
    "def download_bar(current, total, width=80):\n",
    "    print(\"Downloading: %d%% [%.2f / %.2f] MB\" % (current / total * 100, current/1024/1024, total/1024/1024),end=\"\\r\")\n",
    "    \n",
    "def parse_data_from_link(data = None):\n",
    "    if data.empty:\n",
    "        print(\"No data given\")\n",
    "        return\n",
    "    \n",
    "    title = data.title\n",
    "    url = data.url\n",
    "    url_split = str(data.url).split(\"/\")\n",
    "    before_id = url_split[4]\n",
    "    after_id = url_split[6]\n",
    "    \n",
    "    if title == \"-1\":\n",
    "        title = f\"Video {before_id}-{after_id}\"\n",
    "        \n",
    "    return title,before_id,after_id\n",
    "\n",
    "def delete_file_if_tmpfile_exsists():\n",
    "    filename = [\"tmp.mp4\",\"tmp.m4a\"]\n",
    "    base_dir = os.getcwd()\n",
    "    for i in filename:\n",
    "        try:\n",
    "            if os.path.exists(base_dir+\"/\"+i):\n",
    "                os.remove(base_dir+\"/\"+i)\n",
    "        except :\n",
    "            raise Exception(\"Can't delete tmp files . May have permission issue\")\n",
    "            \n"
   ]
  },
  {
   "cell_type": "code",
   "execution_count": 22,
   "metadata": {},
   "outputs": [],
   "source": [
    "def downloader():\n",
    "    df = pd.read_csv(\"data.csv\")\n",
    "    df.title = df.title.fillna(\"-1\")\n",
    "    starting_point = int(input(\"Enter the row number to start download from that position : \"))\n",
    "    ending_point =  int(input(\"Enter the row number where we need to finish : \"))\n",
    "    starting_point-=1\n",
    "    for i in range(df.shape[0]):\n",
    "        if i < starting_point :\n",
    "            continue\n",
    "        if i >= ending_point:\n",
    "            print(\"Programme Halted\")\n",
    "            break\n",
    "        while True:\n",
    "            try:\n",
    "                parsed_data = parse_data_from_link(df.iloc[i])\n",
    "                video_link = f\"https://pepvids.sgp1.cdn.digitaloceanspaces.com/batches/{parsed_data[1]}/video/{parsed_data[2]}/camcs.mp4\"\n",
    "                audio_link = f\"https://pepvids.sgp1.cdn.digitaloceanspaces.com/batches/{parsed_data[1]}/video/{parsed_data[2]}/audio.m4a\"\n",
    "                print(video_link)\n",
    "                output_filename = f\"{parsed_data[0]}\"\n",
    "                output_filename = \"Video \"+str(i+1)+\" \"+output_filename\n",
    "                output_filename = re.sub(r\"[^a-zA-Z0-9]+\", ' ', output_filename)\n",
    "                output_filename += \".mp4\"\n",
    "                print(f\"Downloading {output_filename}\")\n",
    "                wget.download(video_link,bar=download_bar,out=\"tmp.mp4\")\n",
    "                wget.download(audio_link,bar=download_bar,out=\"tmp.m4a\")\n",
    "                mux_video_audio(\"tmp.mp4\",\"tmp.m4a\",output_filename.replace(\" \", \"-\"))\n",
    "                time.sleep(5)\n",
    "                delete_file_if_tmpfile_exsists()\n",
    "                break\n",
    "            except Exception as e:\n",
    "                delete_file_if_tmpfile_exsists()\n",
    "                print(\"Error\")\n",
    "                print(f\"Details : {e}\")\n",
    "                user_input = input(\"Do you want to skip this download [y/n] : \")\n",
    "                if user_input == \"y\" or user_input == \"Y\":\n",
    "                    break\n",
    "                else :\n",
    "                    print(\"We are skipping this\")"
   ]
  },
  {
   "cell_type": "code",
   "execution_count": 23,
   "metadata": {},
   "outputs": [
    {
     "name": "stdout",
     "output_type": "stream",
     "text": [
      "Enter the row number to start download from that position : 1\n",
      "Enter the row number where we need to finish : 4\n",
      "https://pepvids.sgp1.cdn.digitaloceanspaces.com/batches/80/video/183/camcs.mp4\n",
      "Downloading Video 1 Nov 06 Function And Arrays Part 1.mp4\n",
      "b''nloading: 100% [24.79 / 24.79] MB\n",
      "b\"ffmpeg version 4.2.4-1ubuntu0.1 Copyright (c) 2000-2020 the FFmpeg developers\\n  built with gcc 9 (Ubuntu 9.3.0-10ubuntu2)\\n  configuration: --prefix=/usr --extra-version=1ubuntu0.1 --toolchain=hardened --libdir=/usr/lib/x86_64-linux-gnu --incdir=/usr/include/x86_64-linux-gnu --arch=amd64 --enable-gpl --disable-stripping --enable-avresample --disable-filter=resample --enable-avisynth --enable-gnutls --enable-ladspa --enable-libaom --enable-libass --enable-libbluray --enable-libbs2b --enable-libcaca --enable-libcdio --enable-libcodec2 --enable-libflite --enable-libfontconfig --enable-libfreetype --enable-libfribidi --enable-libgme --enable-libgsm --enable-libjack --enable-libmp3lame --enable-libmysofa --enable-libopenjpeg --enable-libopenmpt --enable-libopus --enable-libpulse --enable-librsvg --enable-librubberband --enable-libshine --enable-libsnappy --enable-libsoxr --enable-libspeex --enable-libssh --enable-libtheora --enable-libtwolame --enable-libvidstab --enable-libvorbis --enable-libvpx --enable-libwavpack --enable-libwebp --enable-libx265 --enable-libxml2 --enable-libxvid --enable-libzmq --enable-libzvbi --enable-lv2 --enable-omx --enable-openal --enable-opencl --enable-opengl --enable-sdl2 --enable-libdc1394 --enable-libdrm --enable-libiec61883 --enable-nvenc --enable-chromaprint --enable-frei0r --enable-libx264 --enable-shared\\n  libavutil      56. 31.100 / 56. 31.100\\n  libavcodec     58. 54.100 / 58. 54.100\\n  libavformat    58. 29.100 / 58. 29.100\\n  libavdevice    58.  8.100 / 58.  8.100\\n  libavfilter     7. 57.100 /  7. 57.100\\n  libavresample   4.  0.  0 /  4.  0.  0\\n  libswscale      5.  5.100 /  5.  5.100\\n  libswresample   3.  5.100 /  3.  5.100\\n  libpostproc    55.  5.100 / 55.  5.100\\nInput #0, mov,mp4,m4a,3gp,3g2,mj2, from '/home/tanmoy/Desktop/course_download/tmp.mp4':\\n  Metadata:\\n    major_brand     : mp42\\n    minor_version   : 512\\n    compatible_brands: isomiso2avc1mp41\\n    creation_time   : 2020-11-29T10:35:23.000000Z\\n    encoder         : HandBrake 1.3.3 2020061300\\n  Duration: 01:51:33.52, start: 0.000000, bitrate: 45 kb/s\\n    Stream #0:0(und): Video: h264 (Main) (avc1 / 0x31637661), yuv420p(tv, bt709), 720x576 [SAR 64:45 DAR 16:9], 42 kb/s, 25 fps, 25 tbr, 90k tbn, 180k tbc (default)\\n    Metadata:\\n      creation_time   : 2020-11-29T10:35:23.000000Z\\n      handler_name    : VideoHandler\\nInput #1, mov,mp4,m4a,3gp,3g2,mj2, from '/home/tanmoy/Desktop/course_download/tmp.m4a':\\n  Metadata:\\n    major_brand     : M4A \\n    minor_version   : 512\\n    compatible_brands: isomiso2\\n    creation_time   : 2020-12-09T07:54:07.000000Z\\n    encoder         : Lavf56.36.100\\n  Duration: 01:45:00.05, start: 0.000000, bitrate: 33 kb/s\\n    Stream #1:0(und): Audio: aac (LC) (mp4a / 0x6134706D), 32000 Hz, stereo, fltp, 32 kb/s (default)\\n    Metadata:\\n      creation_time   : 2020-12-09T07:54:07.000000Z\\n      handler_name    : SoundHandler\\nOutput #0, mp4, to '/home/tanmoy/Desktop/course_download/output/Video-1-Nov-06-Function-And-Arrays-Part-1.mp4':\\n  Metadata:\\n    major_brand     : mp42\\n    minor_version   : 512\\n    compatible_brands: isomiso2avc1mp41\\n    encoder         : Lavf58.29.100\\n    Stream #0:0(und): Video: h264 (Main) (avc1 / 0x31637661), yuv420p(tv, bt709), 720x576 [SAR 64:45 DAR 16:9], q=2-31, 42 kb/s, 25 fps, 25 tbr, 90k tbn, 90k tbc (default)\\n    Metadata:\\n      creation_time   : 2020-11-29T10:35:23.000000Z\\n      handler_name    : VideoHandler\\n    Stream #0:1(und): Audio: aac (LC) (mp4a / 0x6134706D), 32000 Hz, stereo, fltp, 32 kb/s (default)\\n    Metadata:\\n      creation_time   : 2020-12-09T07:54:07.000000Z\\n      handler_name    : SoundHandler\\nStream mapping:\\n  Stream #0:0 -> #0:0 (copy)\\n  Stream #1:0 -> #0:1 (copy)\\nPress [q] to stop, [?] for help\\nframe=61661 fps=0.0 q=-1.0 size=   23296kB time=00:41:06.32 bitrate=  77.4kbits/s speed=4.93e+03x    \\rframe=125817 fps=125803 q=-1.0 size=   47104kB time=01:23:52.57 bitrate=  76.7kbits/s speed=5.03e+03x    \\rframe=167338 fps=130690 q=-1.0 Lsize=   64409kB time=01:51:33.40 bitrate=  78.8kbits/s speed=5.23e+03x    \\nvideo:34925kB audio:24610kB subtitle:0kB other streams:0kB global headers:0kB muxing overhead: 8.186657%\\n\"\n",
      "0\n",
      "---- Successfully Muxed ----\n",
      "https://pepvids.sgp1.cdn.digitaloceanspaces.com/batches/80/video/38/camcs.mp4\n",
      "Downloading Video 2 Nov 28 Basics Final Patterns intro Part 2.mp4\n",
      "b''nloading: 100% [26.33 / 26.33] MB\n",
      "b\"ffmpeg version 4.2.4-1ubuntu0.1 Copyright (c) 2000-2020 the FFmpeg developers\\n  built with gcc 9 (Ubuntu 9.3.0-10ubuntu2)\\n  configuration: --prefix=/usr --extra-version=1ubuntu0.1 --toolchain=hardened --libdir=/usr/lib/x86_64-linux-gnu --incdir=/usr/include/x86_64-linux-gnu --arch=amd64 --enable-gpl --disable-stripping --enable-avresample --disable-filter=resample --enable-avisynth --enable-gnutls --enable-ladspa --enable-libaom --enable-libass --enable-libbluray --enable-libbs2b --enable-libcaca --enable-libcdio --enable-libcodec2 --enable-libflite --enable-libfontconfig --enable-libfreetype --enable-libfribidi --enable-libgme --enable-libgsm --enable-libjack --enable-libmp3lame --enable-libmysofa --enable-libopenjpeg --enable-libopenmpt --enable-libopus --enable-libpulse --enable-librsvg --enable-librubberband --enable-libshine --enable-libsnappy --enable-libsoxr --enable-libspeex --enable-libssh --enable-libtheora --enable-libtwolame --enable-libvidstab --enable-libvorbis --enable-libvpx --enable-libwavpack --enable-libwebp --enable-libx265 --enable-libxml2 --enable-libxvid --enable-libzmq --enable-libzvbi --enable-lv2 --enable-omx --enable-openal --enable-opencl --enable-opengl --enable-sdl2 --enable-libdc1394 --enable-libdrm --enable-libiec61883 --enable-nvenc --enable-chromaprint --enable-frei0r --enable-libx264 --enable-shared\\n  libavutil      56. 31.100 / 56. 31.100\\n  libavcodec     58. 54.100 / 58. 54.100\\n  libavformat    58. 29.100 / 58. 29.100\\n  libavdevice    58.  8.100 / 58.  8.100\\n  libavfilter     7. 57.100 /  7. 57.100\\n  libavresample   4.  0.  0 /  4.  0.  0\\n  libswscale      5.  5.100 /  5.  5.100\\n  libswresample   3.  5.100 /  3.  5.100\\n  libpostproc    55.  5.100 / 55.  5.100\\nInput #0, mov,mp4,m4a,3gp,3g2,mj2, from '/home/tanmoy/Desktop/course_download/tmp.mp4':\\n  Metadata:\\n    major_brand     : mp42\\n    minor_version   : 512\\n    compatible_brands: isomiso2avc1mp41\\n    creation_time   : 2020-11-29T10:35:23.000000Z\\n    encoder         : HandBrake 1.3.3 2020061300\\n  Duration: 01:51:33.52, start: 0.000000, bitrate: 45 kb/s\\n    Stream #0:0(und): Video: h264 (Main) (avc1 / 0x31637661), yuv420p(tv, bt709), 720x576 [SAR 64:45 DAR 16:9], 42 kb/s, 25 fps, 25 tbr, 90k tbn, 180k tbc (default)\\n    Metadata:\\n      creation_time   : 2020-11-29T10:35:23.000000Z\\n      handler_name    : VideoHandler\\nInput #1, mov,mp4,m4a,3gp,3g2,mj2, from '/home/tanmoy/Desktop/course_download/tmp.m4a':\\n  Metadata:\\n    major_brand     : M4A \\n    minor_version   : 512\\n    compatible_brands: isomiso2\\n    creation_time   : 2020-11-29T10:21:12.000000Z\\n    encoder         : Lavf56.36.100\\n  Duration: 01:51:33.59, start: 0.000000, bitrate: 33 kb/s\\n    Stream #1:0(und): Audio: aac (LC) (mp4a / 0x6134706D), 32000 Hz, stereo, fltp, 32 kb/s (default)\\n    Metadata:\\n      creation_time   : 2020-11-29T10:21:12.000000Z\\n      handler_name    : SoundHandler\\nOutput #0, mp4, to '/home/tanmoy/Desktop/course_download/output/Video-2-Nov-28-Basics-Final-Patterns-intro-Part-2.mp4':\\n  Metadata:\\n    major_brand     : mp42\\n    minor_version   : 512\\n    compatible_brands: isomiso2avc1mp41\\n    encoder         : Lavf58.29.100\\n    Stream #0:0(und): Video: h264 (Main) (avc1 / 0x31637661), yuv420p(tv, bt709), 720x576 [SAR 64:45 DAR 16:9], q=2-31, 42 kb/s, 25 fps, 25 tbr, 90k tbn, 90k tbc (default)\\n    Metadata:\\n      creation_time   : 2020-11-29T10:35:23.000000Z\\n      handler_name    : VideoHandler\\n    Stream #0:1(und): Audio: aac (LC) (mp4a / 0x6134706D), 32000 Hz, stereo, fltp, 32 kb/s (default)\\n    Metadata:\\n      creation_time   : 2020-11-29T10:21:12.000000Z\\n      handler_name    : SoundHandler\\nStream mapping:\\n  Stream #0:0 -> #0:0 (copy)\\n  Stream #1:0 -> #0:1 (copy)\\nPress [q] to stop, [?] for help\\nframe=59890 fps=0.0 q=-1.0 size=   22528kB time=00:39:55.48 bitrate=  77.0kbits/s speed=4.79e+03x    \\rframe=122665 fps=122615 q=-1.0 size=   45312kB time=01:21:46.48 bitrate=  75.7kbits/s speed=4.9e+03x    \\rframe=167338 fps=119918 q=-1.0 Lsize=   66129kB time=01:51:33.56 bitrate=  80.9kbits/s speed=4.8e+03x    \\nvideo:34925kB audio:26148kB subtitle:0kB other streams:0kB global headers:0kB muxing overhead: 8.279318%\\n\"\n",
      "0\n",
      "---- Successfully Muxed ----\n"
     ]
    },
    {
     "name": "stdout",
     "output_type": "stream",
     "text": [
      "https://pepvids.sgp1.cdn.digitaloceanspaces.com/batches/80/video/37/camcs.mp4\n",
      "Downloading Video 3 Nov 28 Basics Final Patterns intro Part 1.mp4\n",
      "b''nloading: 100% [24.79 / 24.79] MB\n",
      "b\"ffmpeg version 4.2.4-1ubuntu0.1 Copyright (c) 2000-2020 the FFmpeg developers\\n  built with gcc 9 (Ubuntu 9.3.0-10ubuntu2)\\n  configuration: --prefix=/usr --extra-version=1ubuntu0.1 --toolchain=hardened --libdir=/usr/lib/x86_64-linux-gnu --incdir=/usr/include/x86_64-linux-gnu --arch=amd64 --enable-gpl --disable-stripping --enable-avresample --disable-filter=resample --enable-avisynth --enable-gnutls --enable-ladspa --enable-libaom --enable-libass --enable-libbluray --enable-libbs2b --enable-libcaca --enable-libcdio --enable-libcodec2 --enable-libflite --enable-libfontconfig --enable-libfreetype --enable-libfribidi --enable-libgme --enable-libgsm --enable-libjack --enable-libmp3lame --enable-libmysofa --enable-libopenjpeg --enable-libopenmpt --enable-libopus --enable-libpulse --enable-librsvg --enable-librubberband --enable-libshine --enable-libsnappy --enable-libsoxr --enable-libspeex --enable-libssh --enable-libtheora --enable-libtwolame --enable-libvidstab --enable-libvorbis --enable-libvpx --enable-libwavpack --enable-libwebp --enable-libx265 --enable-libxml2 --enable-libxvid --enable-libzmq --enable-libzvbi --enable-lv2 --enable-omx --enable-openal --enable-opencl --enable-opengl --enable-sdl2 --enable-libdc1394 --enable-libdrm --enable-libiec61883 --enable-nvenc --enable-chromaprint --enable-frei0r --enable-libx264 --enable-shared\\n  libavutil      56. 31.100 / 56. 31.100\\n  libavcodec     58. 54.100 / 58. 54.100\\n  libavformat    58. 29.100 / 58. 29.100\\n  libavdevice    58.  8.100 / 58.  8.100\\n  libavfilter     7. 57.100 /  7. 57.100\\n  libavresample   4.  0.  0 /  4.  0.  0\\n  libswscale      5.  5.100 /  5.  5.100\\n  libswresample   3.  5.100 /  3.  5.100\\n  libpostproc    55.  5.100 / 55.  5.100\\nInput #0, mov,mp4,m4a,3gp,3g2,mj2, from '/home/tanmoy/Desktop/course_download/tmp.mp4':\\n  Metadata:\\n    major_brand     : mp42\\n    minor_version   : 512\\n    compatible_brands: isomiso2avc1mp41\\n    creation_time   : 2020-11-29T10:14:40.000000Z\\n    encoder         : HandBrake 1.3.3 2020061300\\n  Duration: 01:45:00.00, start: 0.000000, bitrate: 43 kb/s\\n    Stream #0:0(und): Video: h264 (Main) (avc1 / 0x31637661), yuv420p(tv, bt709), 720x576 [SAR 64:45 DAR 16:9], 41 kb/s, 25 fps, 25 tbr, 90k tbn, 180k tbc (default)\\n    Metadata:\\n      creation_time   : 2020-11-29T10:14:40.000000Z\\n      handler_name    : VideoHandler\\nInput #1, mov,mp4,m4a,3gp,3g2,mj2, from '/home/tanmoy/Desktop/course_download/tmp.m4a':\\n  Metadata:\\n    major_brand     : M4A \\n    minor_version   : 512\\n    compatible_brands: isomiso2\\n    creation_time   : 2020-11-29T10:07:39.000000Z\\n    encoder         : Lavf56.36.100\\n  Duration: 01:45:00.05, start: 0.000000, bitrate: 33 kb/s\\n    Stream #1:0(und): Audio: aac (LC) (mp4a / 0x6134706D), 32000 Hz, stereo, fltp, 32 kb/s (default)\\n    Metadata:\\n      creation_time   : 2020-11-29T10:07:39.000000Z\\n      handler_name    : SoundHandler\\nOutput #0, mp4, to '/home/tanmoy/Desktop/course_download/output/Video-3-Nov-28-Basics-Final-Patterns-intro-Part-1.mp4':\\n  Metadata:\\n    major_brand     : mp42\\n    minor_version   : 512\\n    compatible_brands: isomiso2avc1mp41\\n    encoder         : Lavf58.29.100\\n    Stream #0:0(und): Video: h264 (Main) (avc1 / 0x31637661), yuv420p(tv, bt709), 720x576 [SAR 64:45 DAR 16:9], q=2-31, 41 kb/s, 25 fps, 25 tbr, 90k tbn, 90k tbc (default)\\n    Metadata:\\n      creation_time   : 2020-11-29T10:14:40.000000Z\\n      handler_name    : VideoHandler\\n    Stream #0:1(und): Audio: aac (LC) (mp4a / 0x6134706D), 32000 Hz, stereo, fltp, 32 kb/s (default)\\n    Metadata:\\n      creation_time   : 2020-11-29T10:07:39.000000Z\\n      handler_name    : SoundHandler\\nStream mapping:\\n  Stream #0:0 -> #0:0 (copy)\\n  Stream #1:0 -> #0:1 (copy)\\nPress [q] to stop, [?] for help\\nframe=63068 fps=0.0 q=-1.0 size=   22272kB time=00:42:02.62 bitrate=  72.3kbits/s speed=5.02e+03x    \\rframe=126612 fps=126293 q=-1.0 size=   44800kB time=01:24:24.38 bitrate=  72.5kbits/s speed=5.05e+03x    \\rframe=157500 fps=123458 q=-1.0 Lsize=   61194kB time=01:45:00.03 bitrate=  79.6kbits/s speed=4.94e+03x    \\nvideo:31826kB audio:24610kB subtitle:0kB other streams:0kB global headers:0kB muxing overhead: 8.430186%\\n\"\n",
      "0\n",
      "---- Successfully Muxed ----\n",
      "https://pepvids.sgp1.cdn.digitaloceanspaces.com/batches/80/video/85/camcs.mp4\n",
      "Downloading Video 4 Nov 29 Patterns 1 Part 2.mp4\n",
      "Downloading: 46% [13.91 / 29.64] MBB\r"
     ]
    },
    {
     "ename": "KeyboardInterrupt",
     "evalue": "",
     "output_type": "error",
     "traceback": [
      "\u001b[0;31m---------------------------------------------------------------------------\u001b[0m",
      "\u001b[0;31mKeyboardInterrupt\u001b[0m                         Traceback (most recent call last)",
      "\u001b[0;32m<ipython-input-23-67102a3bbf83>\u001b[0m in \u001b[0;36m<module>\u001b[0;34m\u001b[0m\n\u001b[0;32m----> 1\u001b[0;31m \u001b[0mdownloader\u001b[0m\u001b[0;34m(\u001b[0m\u001b[0;34m)\u001b[0m\u001b[0;34m\u001b[0m\u001b[0;34m\u001b[0m\u001b[0m\n\u001b[0m",
      "\u001b[0;32m<ipython-input-22-cd82d4777811>\u001b[0m in \u001b[0;36mdownloader\u001b[0;34m()\u001b[0m\n\u001b[1;32m     23\u001b[0m                 \u001b[0mprint\u001b[0m\u001b[0;34m(\u001b[0m\u001b[0;34mf\"Downloading {output_filename}\"\u001b[0m\u001b[0;34m)\u001b[0m\u001b[0;34m\u001b[0m\u001b[0;34m\u001b[0m\u001b[0m\n\u001b[1;32m     24\u001b[0m                 \u001b[0mwget\u001b[0m\u001b[0;34m.\u001b[0m\u001b[0mdownload\u001b[0m\u001b[0;34m(\u001b[0m\u001b[0mvideo_link\u001b[0m\u001b[0;34m,\u001b[0m\u001b[0mbar\u001b[0m\u001b[0;34m=\u001b[0m\u001b[0mdownload_bar\u001b[0m\u001b[0;34m,\u001b[0m\u001b[0mout\u001b[0m\u001b[0;34m=\u001b[0m\u001b[0;34m\"tmp.mp4\"\u001b[0m\u001b[0;34m)\u001b[0m\u001b[0;34m\u001b[0m\u001b[0;34m\u001b[0m\u001b[0m\n\u001b[0;32m---> 25\u001b[0;31m                 \u001b[0mwget\u001b[0m\u001b[0;34m.\u001b[0m\u001b[0mdownload\u001b[0m\u001b[0;34m(\u001b[0m\u001b[0maudio_link\u001b[0m\u001b[0;34m,\u001b[0m\u001b[0mbar\u001b[0m\u001b[0;34m=\u001b[0m\u001b[0mdownload_bar\u001b[0m\u001b[0;34m,\u001b[0m\u001b[0mout\u001b[0m\u001b[0;34m=\u001b[0m\u001b[0;34m\"tmp.m4a\"\u001b[0m\u001b[0;34m)\u001b[0m\u001b[0;34m\u001b[0m\u001b[0;34m\u001b[0m\u001b[0m\n\u001b[0m\u001b[1;32m     26\u001b[0m                 \u001b[0mmux_video_audio\u001b[0m\u001b[0;34m(\u001b[0m\u001b[0;34m\"tmp.mp4\"\u001b[0m\u001b[0;34m,\u001b[0m\u001b[0;34m\"tmp.m4a\"\u001b[0m\u001b[0;34m,\u001b[0m\u001b[0moutput_filename\u001b[0m\u001b[0;34m.\u001b[0m\u001b[0mreplace\u001b[0m\u001b[0;34m(\u001b[0m\u001b[0;34m\" \"\u001b[0m\u001b[0;34m,\u001b[0m \u001b[0;34m\"-\"\u001b[0m\u001b[0;34m)\u001b[0m\u001b[0;34m)\u001b[0m\u001b[0;34m\u001b[0m\u001b[0;34m\u001b[0m\u001b[0m\n\u001b[1;32m     27\u001b[0m                 \u001b[0mtime\u001b[0m\u001b[0;34m.\u001b[0m\u001b[0msleep\u001b[0m\u001b[0;34m(\u001b[0m\u001b[0;36m5\u001b[0m\u001b[0;34m)\u001b[0m\u001b[0;34m\u001b[0m\u001b[0;34m\u001b[0m\u001b[0m\n",
      "\u001b[0;32m~/anaconda3/lib/python3.8/site-packages/wget.py\u001b[0m in \u001b[0;36mdownload\u001b[0;34m(url, out, bar)\u001b[0m\n\u001b[1;32m    524\u001b[0m     \u001b[0;32melse\u001b[0m\u001b[0;34m:\u001b[0m\u001b[0;34m\u001b[0m\u001b[0;34m\u001b[0m\u001b[0m\n\u001b[1;32m    525\u001b[0m         \u001b[0mbinurl\u001b[0m \u001b[0;34m=\u001b[0m \u001b[0murl\u001b[0m\u001b[0;34m\u001b[0m\u001b[0;34m\u001b[0m\u001b[0m\n\u001b[0;32m--> 526\u001b[0;31m     \u001b[0;34m(\u001b[0m\u001b[0mtmpfile\u001b[0m\u001b[0;34m,\u001b[0m \u001b[0mheaders\u001b[0m\u001b[0;34m)\u001b[0m \u001b[0;34m=\u001b[0m \u001b[0mulib\u001b[0m\u001b[0;34m.\u001b[0m\u001b[0murlretrieve\u001b[0m\u001b[0;34m(\u001b[0m\u001b[0mbinurl\u001b[0m\u001b[0;34m,\u001b[0m \u001b[0mtmpfile\u001b[0m\u001b[0;34m,\u001b[0m \u001b[0mcallback\u001b[0m\u001b[0;34m)\u001b[0m\u001b[0;34m\u001b[0m\u001b[0;34m\u001b[0m\u001b[0m\n\u001b[0m\u001b[1;32m    527\u001b[0m     \u001b[0mfilename\u001b[0m \u001b[0;34m=\u001b[0m \u001b[0mdetect_filename\u001b[0m\u001b[0;34m(\u001b[0m\u001b[0murl\u001b[0m\u001b[0;34m,\u001b[0m \u001b[0mout\u001b[0m\u001b[0;34m,\u001b[0m \u001b[0mheaders\u001b[0m\u001b[0;34m)\u001b[0m\u001b[0;34m\u001b[0m\u001b[0;34m\u001b[0m\u001b[0m\n\u001b[1;32m    528\u001b[0m     \u001b[0;32mif\u001b[0m \u001b[0moutdir\u001b[0m\u001b[0;34m:\u001b[0m\u001b[0;34m\u001b[0m\u001b[0;34m\u001b[0m\u001b[0m\n",
      "\u001b[0;32m~/anaconda3/lib/python3.8/urllib/request.py\u001b[0m in \u001b[0;36murlretrieve\u001b[0;34m(url, filename, reporthook, data)\u001b[0m\n\u001b[1;32m    274\u001b[0m \u001b[0;34m\u001b[0m\u001b[0m\n\u001b[1;32m    275\u001b[0m             \u001b[0;32mwhile\u001b[0m \u001b[0;32mTrue\u001b[0m\u001b[0;34m:\u001b[0m\u001b[0;34m\u001b[0m\u001b[0;34m\u001b[0m\u001b[0m\n\u001b[0;32m--> 276\u001b[0;31m                 \u001b[0mblock\u001b[0m \u001b[0;34m=\u001b[0m \u001b[0mfp\u001b[0m\u001b[0;34m.\u001b[0m\u001b[0mread\u001b[0m\u001b[0;34m(\u001b[0m\u001b[0mbs\u001b[0m\u001b[0;34m)\u001b[0m\u001b[0;34m\u001b[0m\u001b[0;34m\u001b[0m\u001b[0m\n\u001b[0m\u001b[1;32m    277\u001b[0m                 \u001b[0;32mif\u001b[0m \u001b[0;32mnot\u001b[0m \u001b[0mblock\u001b[0m\u001b[0;34m:\u001b[0m\u001b[0;34m\u001b[0m\u001b[0;34m\u001b[0m\u001b[0m\n\u001b[1;32m    278\u001b[0m                     \u001b[0;32mbreak\u001b[0m\u001b[0;34m\u001b[0m\u001b[0;34m\u001b[0m\u001b[0m\n",
      "\u001b[0;32m~/anaconda3/lib/python3.8/http/client.py\u001b[0m in \u001b[0;36mread\u001b[0;34m(self, amt)\u001b[0m\n\u001b[1;32m    456\u001b[0m             \u001b[0;31m# Amount is given, implement using readinto\u001b[0m\u001b[0;34m\u001b[0m\u001b[0;34m\u001b[0m\u001b[0;34m\u001b[0m\u001b[0m\n\u001b[1;32m    457\u001b[0m             \u001b[0mb\u001b[0m \u001b[0;34m=\u001b[0m \u001b[0mbytearray\u001b[0m\u001b[0;34m(\u001b[0m\u001b[0mamt\u001b[0m\u001b[0;34m)\u001b[0m\u001b[0;34m\u001b[0m\u001b[0;34m\u001b[0m\u001b[0m\n\u001b[0;32m--> 458\u001b[0;31m             \u001b[0mn\u001b[0m \u001b[0;34m=\u001b[0m \u001b[0mself\u001b[0m\u001b[0;34m.\u001b[0m\u001b[0mreadinto\u001b[0m\u001b[0;34m(\u001b[0m\u001b[0mb\u001b[0m\u001b[0;34m)\u001b[0m\u001b[0;34m\u001b[0m\u001b[0;34m\u001b[0m\u001b[0m\n\u001b[0m\u001b[1;32m    459\u001b[0m             \u001b[0;32mreturn\u001b[0m \u001b[0mmemoryview\u001b[0m\u001b[0;34m(\u001b[0m\u001b[0mb\u001b[0m\u001b[0;34m)\u001b[0m\u001b[0;34m[\u001b[0m\u001b[0;34m:\u001b[0m\u001b[0mn\u001b[0m\u001b[0;34m]\u001b[0m\u001b[0;34m.\u001b[0m\u001b[0mtobytes\u001b[0m\u001b[0;34m(\u001b[0m\u001b[0;34m)\u001b[0m\u001b[0;34m\u001b[0m\u001b[0;34m\u001b[0m\u001b[0m\n\u001b[1;32m    460\u001b[0m         \u001b[0;32melse\u001b[0m\u001b[0;34m:\u001b[0m\u001b[0;34m\u001b[0m\u001b[0;34m\u001b[0m\u001b[0m\n",
      "\u001b[0;32m~/anaconda3/lib/python3.8/http/client.py\u001b[0m in \u001b[0;36mreadinto\u001b[0;34m(self, b)\u001b[0m\n\u001b[1;32m    500\u001b[0m         \u001b[0;31m# connection, and the user is reading more bytes than will be provided\u001b[0m\u001b[0;34m\u001b[0m\u001b[0;34m\u001b[0m\u001b[0;34m\u001b[0m\u001b[0m\n\u001b[1;32m    501\u001b[0m         \u001b[0;31m# (for example, reading in 1k chunks)\u001b[0m\u001b[0;34m\u001b[0m\u001b[0;34m\u001b[0m\u001b[0;34m\u001b[0m\u001b[0m\n\u001b[0;32m--> 502\u001b[0;31m         \u001b[0mn\u001b[0m \u001b[0;34m=\u001b[0m \u001b[0mself\u001b[0m\u001b[0;34m.\u001b[0m\u001b[0mfp\u001b[0m\u001b[0;34m.\u001b[0m\u001b[0mreadinto\u001b[0m\u001b[0;34m(\u001b[0m\u001b[0mb\u001b[0m\u001b[0;34m)\u001b[0m\u001b[0;34m\u001b[0m\u001b[0;34m\u001b[0m\u001b[0m\n\u001b[0m\u001b[1;32m    503\u001b[0m         \u001b[0;32mif\u001b[0m \u001b[0;32mnot\u001b[0m \u001b[0mn\u001b[0m \u001b[0;32mand\u001b[0m \u001b[0mb\u001b[0m\u001b[0;34m:\u001b[0m\u001b[0;34m\u001b[0m\u001b[0;34m\u001b[0m\u001b[0m\n\u001b[1;32m    504\u001b[0m             \u001b[0;31m# Ideally, we would raise IncompleteRead if the content-length\u001b[0m\u001b[0;34m\u001b[0m\u001b[0;34m\u001b[0m\u001b[0;34m\u001b[0m\u001b[0m\n",
      "\u001b[0;32m~/anaconda3/lib/python3.8/socket.py\u001b[0m in \u001b[0;36mreadinto\u001b[0;34m(self, b)\u001b[0m\n\u001b[1;32m    667\u001b[0m         \u001b[0;32mwhile\u001b[0m \u001b[0;32mTrue\u001b[0m\u001b[0;34m:\u001b[0m\u001b[0;34m\u001b[0m\u001b[0;34m\u001b[0m\u001b[0m\n\u001b[1;32m    668\u001b[0m             \u001b[0;32mtry\u001b[0m\u001b[0;34m:\u001b[0m\u001b[0;34m\u001b[0m\u001b[0;34m\u001b[0m\u001b[0m\n\u001b[0;32m--> 669\u001b[0;31m                 \u001b[0;32mreturn\u001b[0m \u001b[0mself\u001b[0m\u001b[0;34m.\u001b[0m\u001b[0m_sock\u001b[0m\u001b[0;34m.\u001b[0m\u001b[0mrecv_into\u001b[0m\u001b[0;34m(\u001b[0m\u001b[0mb\u001b[0m\u001b[0;34m)\u001b[0m\u001b[0;34m\u001b[0m\u001b[0;34m\u001b[0m\u001b[0m\n\u001b[0m\u001b[1;32m    670\u001b[0m             \u001b[0;32mexcept\u001b[0m \u001b[0mtimeout\u001b[0m\u001b[0;34m:\u001b[0m\u001b[0;34m\u001b[0m\u001b[0;34m\u001b[0m\u001b[0m\n\u001b[1;32m    671\u001b[0m                 \u001b[0mself\u001b[0m\u001b[0;34m.\u001b[0m\u001b[0m_timeout_occurred\u001b[0m \u001b[0;34m=\u001b[0m \u001b[0;32mTrue\u001b[0m\u001b[0;34m\u001b[0m\u001b[0;34m\u001b[0m\u001b[0m\n",
      "\u001b[0;32m~/anaconda3/lib/python3.8/ssl.py\u001b[0m in \u001b[0;36mrecv_into\u001b[0;34m(self, buffer, nbytes, flags)\u001b[0m\n\u001b[1;32m   1239\u001b[0m                   \u001b[0;34m\"non-zero flags not allowed in calls to recv_into() on %s\"\u001b[0m \u001b[0;34m%\u001b[0m\u001b[0;34m\u001b[0m\u001b[0;34m\u001b[0m\u001b[0m\n\u001b[1;32m   1240\u001b[0m                   self.__class__)\n\u001b[0;32m-> 1241\u001b[0;31m             \u001b[0;32mreturn\u001b[0m \u001b[0mself\u001b[0m\u001b[0;34m.\u001b[0m\u001b[0mread\u001b[0m\u001b[0;34m(\u001b[0m\u001b[0mnbytes\u001b[0m\u001b[0;34m,\u001b[0m \u001b[0mbuffer\u001b[0m\u001b[0;34m)\u001b[0m\u001b[0;34m\u001b[0m\u001b[0;34m\u001b[0m\u001b[0m\n\u001b[0m\u001b[1;32m   1242\u001b[0m         \u001b[0;32melse\u001b[0m\u001b[0;34m:\u001b[0m\u001b[0;34m\u001b[0m\u001b[0;34m\u001b[0m\u001b[0m\n\u001b[1;32m   1243\u001b[0m             \u001b[0;32mreturn\u001b[0m \u001b[0msuper\u001b[0m\u001b[0;34m(\u001b[0m\u001b[0;34m)\u001b[0m\u001b[0;34m.\u001b[0m\u001b[0mrecv_into\u001b[0m\u001b[0;34m(\u001b[0m\u001b[0mbuffer\u001b[0m\u001b[0;34m,\u001b[0m \u001b[0mnbytes\u001b[0m\u001b[0;34m,\u001b[0m \u001b[0mflags\u001b[0m\u001b[0;34m)\u001b[0m\u001b[0;34m\u001b[0m\u001b[0;34m\u001b[0m\u001b[0m\n",
      "\u001b[0;32m~/anaconda3/lib/python3.8/ssl.py\u001b[0m in \u001b[0;36mread\u001b[0;34m(self, len, buffer)\u001b[0m\n\u001b[1;32m   1097\u001b[0m         \u001b[0;32mtry\u001b[0m\u001b[0;34m:\u001b[0m\u001b[0;34m\u001b[0m\u001b[0;34m\u001b[0m\u001b[0m\n\u001b[1;32m   1098\u001b[0m             \u001b[0;32mif\u001b[0m \u001b[0mbuffer\u001b[0m \u001b[0;32mis\u001b[0m \u001b[0;32mnot\u001b[0m \u001b[0;32mNone\u001b[0m\u001b[0;34m:\u001b[0m\u001b[0;34m\u001b[0m\u001b[0;34m\u001b[0m\u001b[0m\n\u001b[0;32m-> 1099\u001b[0;31m                 \u001b[0;32mreturn\u001b[0m \u001b[0mself\u001b[0m\u001b[0;34m.\u001b[0m\u001b[0m_sslobj\u001b[0m\u001b[0;34m.\u001b[0m\u001b[0mread\u001b[0m\u001b[0;34m(\u001b[0m\u001b[0mlen\u001b[0m\u001b[0;34m,\u001b[0m \u001b[0mbuffer\u001b[0m\u001b[0;34m)\u001b[0m\u001b[0;34m\u001b[0m\u001b[0;34m\u001b[0m\u001b[0m\n\u001b[0m\u001b[1;32m   1100\u001b[0m             \u001b[0;32melse\u001b[0m\u001b[0;34m:\u001b[0m\u001b[0;34m\u001b[0m\u001b[0;34m\u001b[0m\u001b[0m\n\u001b[1;32m   1101\u001b[0m                 \u001b[0;32mreturn\u001b[0m \u001b[0mself\u001b[0m\u001b[0;34m.\u001b[0m\u001b[0m_sslobj\u001b[0m\u001b[0;34m.\u001b[0m\u001b[0mread\u001b[0m\u001b[0;34m(\u001b[0m\u001b[0mlen\u001b[0m\u001b[0;34m)\u001b[0m\u001b[0;34m\u001b[0m\u001b[0;34m\u001b[0m\u001b[0m\n",
      "\u001b[0;31mKeyboardInterrupt\u001b[0m: "
     ]
    }
   ],
   "source": [
    "downloader()"
   ]
  },
  {
   "cell_type": "code",
   "execution_count": 63,
   "metadata": {
    "collapsed": true
   },
   "outputs": [
    {
     "name": "stdout",
     "output_type": "stream",
     "text": [
      "Enter the row number to start download from that position : 1\n"
     ]
    },
    {
     "ename": "KeyboardInterrupt",
     "evalue": "Interrupted by user",
     "output_type": "error",
     "traceback": [
      "\u001b[0;31m---------------------------------------------------------------------------\u001b[0m",
      "\u001b[0;31mKeyboardInterrupt\u001b[0m                         Traceback (most recent call last)",
      "\u001b[0;32m<ipython-input-63-8e81aef24f42>\u001b[0m in \u001b[0;36m<module>\u001b[0;34m\u001b[0m\n\u001b[1;32m      1\u001b[0m \u001b[0;32mif\u001b[0m \u001b[0m__name__\u001b[0m \u001b[0;34m==\u001b[0m \u001b[0;34m\"__main__\"\u001b[0m\u001b[0;34m:\u001b[0m\u001b[0;34m\u001b[0m\u001b[0;34m\u001b[0m\u001b[0m\n\u001b[0;32m----> 2\u001b[0;31m     \u001b[0mdownloader\u001b[0m\u001b[0;34m(\u001b[0m\u001b[0;34m)\u001b[0m\u001b[0;34m\u001b[0m\u001b[0;34m\u001b[0m\u001b[0m\n\u001b[0m",
      "\u001b[0;32m<ipython-input-61-03d403b7676d>\u001b[0m in \u001b[0;36mdownloader\u001b[0;34m()\u001b[0m\n\u001b[1;32m      3\u001b[0m     \u001b[0mdf\u001b[0m\u001b[0;34m.\u001b[0m\u001b[0mtitle\u001b[0m \u001b[0;34m=\u001b[0m \u001b[0mdf\u001b[0m\u001b[0;34m.\u001b[0m\u001b[0mtitle\u001b[0m\u001b[0;34m.\u001b[0m\u001b[0mfillna\u001b[0m\u001b[0;34m(\u001b[0m\u001b[0;34m\"-1\"\u001b[0m\u001b[0;34m)\u001b[0m\u001b[0;34m\u001b[0m\u001b[0;34m\u001b[0m\u001b[0m\n\u001b[1;32m      4\u001b[0m     \u001b[0mstarting_point\u001b[0m \u001b[0;34m=\u001b[0m \u001b[0mint\u001b[0m\u001b[0;34m(\u001b[0m\u001b[0minput\u001b[0m\u001b[0;34m(\u001b[0m\u001b[0;34m\"Enter the row number to start download from that position : \"\u001b[0m\u001b[0;34m)\u001b[0m\u001b[0;34m)\u001b[0m\u001b[0;34m\u001b[0m\u001b[0;34m\u001b[0m\u001b[0m\n\u001b[0;32m----> 5\u001b[0;31m     \u001b[0mending_point\u001b[0m \u001b[0;34m=\u001b[0m  \u001b[0mint\u001b[0m\u001b[0;34m(\u001b[0m\u001b[0minput\u001b[0m\u001b[0;34m(\u001b[0m\u001b[0;34m\"Enter the row number where we need to finish : \"\u001b[0m\u001b[0;34m)\u001b[0m\u001b[0;34m)\u001b[0m\u001b[0;34m\u001b[0m\u001b[0;34m\u001b[0m\u001b[0m\n\u001b[0m\u001b[1;32m      6\u001b[0m     \u001b[0mstarting_point\u001b[0m\u001b[0;34m-=\u001b[0m\u001b[0;36m1\u001b[0m\u001b[0;34m\u001b[0m\u001b[0;34m\u001b[0m\u001b[0m\n\u001b[1;32m      7\u001b[0m     \u001b[0;32mfor\u001b[0m \u001b[0mi\u001b[0m \u001b[0;32min\u001b[0m \u001b[0mrange\u001b[0m\u001b[0;34m(\u001b[0m\u001b[0mdf\u001b[0m\u001b[0;34m.\u001b[0m\u001b[0mshape\u001b[0m\u001b[0;34m[\u001b[0m\u001b[0;36m0\u001b[0m\u001b[0;34m]\u001b[0m\u001b[0;34m)\u001b[0m\u001b[0;34m:\u001b[0m\u001b[0;34m\u001b[0m\u001b[0;34m\u001b[0m\u001b[0m\n",
      "\u001b[0;32m~/anaconda3/lib/python3.8/site-packages/ipykernel/kernelbase.py\u001b[0m in \u001b[0;36mraw_input\u001b[0;34m(self, prompt)\u001b[0m\n\u001b[1;32m    858\u001b[0m                 \u001b[0;34m\"raw_input was called, but this frontend does not support input requests.\"\u001b[0m\u001b[0;34m\u001b[0m\u001b[0;34m\u001b[0m\u001b[0m\n\u001b[1;32m    859\u001b[0m             )\n\u001b[0;32m--> 860\u001b[0;31m         return self._input_request(str(prompt),\n\u001b[0m\u001b[1;32m    861\u001b[0m             \u001b[0mself\u001b[0m\u001b[0;34m.\u001b[0m\u001b[0m_parent_ident\u001b[0m\u001b[0;34m,\u001b[0m\u001b[0;34m\u001b[0m\u001b[0;34m\u001b[0m\u001b[0m\n\u001b[1;32m    862\u001b[0m             \u001b[0mself\u001b[0m\u001b[0;34m.\u001b[0m\u001b[0m_parent_header\u001b[0m\u001b[0;34m,\u001b[0m\u001b[0;34m\u001b[0m\u001b[0;34m\u001b[0m\u001b[0m\n",
      "\u001b[0;32m~/anaconda3/lib/python3.8/site-packages/ipykernel/kernelbase.py\u001b[0m in \u001b[0;36m_input_request\u001b[0;34m(self, prompt, ident, parent, password)\u001b[0m\n\u001b[1;32m    902\u001b[0m             \u001b[0;32mexcept\u001b[0m \u001b[0mKeyboardInterrupt\u001b[0m\u001b[0;34m:\u001b[0m\u001b[0;34m\u001b[0m\u001b[0;34m\u001b[0m\u001b[0m\n\u001b[1;32m    903\u001b[0m                 \u001b[0;31m# re-raise KeyboardInterrupt, to truncate traceback\u001b[0m\u001b[0;34m\u001b[0m\u001b[0;34m\u001b[0m\u001b[0;34m\u001b[0m\u001b[0m\n\u001b[0;32m--> 904\u001b[0;31m                 \u001b[0;32mraise\u001b[0m \u001b[0mKeyboardInterrupt\u001b[0m\u001b[0;34m(\u001b[0m\u001b[0;34m\"Interrupted by user\"\u001b[0m\u001b[0;34m)\u001b[0m \u001b[0;32mfrom\u001b[0m \u001b[0;32mNone\u001b[0m\u001b[0;34m\u001b[0m\u001b[0;34m\u001b[0m\u001b[0m\n\u001b[0m\u001b[1;32m    905\u001b[0m             \u001b[0;32mexcept\u001b[0m \u001b[0mException\u001b[0m \u001b[0;32mas\u001b[0m \u001b[0me\u001b[0m\u001b[0;34m:\u001b[0m\u001b[0;34m\u001b[0m\u001b[0;34m\u001b[0m\u001b[0m\n\u001b[1;32m    906\u001b[0m                 \u001b[0mself\u001b[0m\u001b[0;34m.\u001b[0m\u001b[0mlog\u001b[0m\u001b[0;34m.\u001b[0m\u001b[0mwarning\u001b[0m\u001b[0;34m(\u001b[0m\u001b[0;34m\"Invalid Message:\"\u001b[0m\u001b[0;34m,\u001b[0m \u001b[0mexc_info\u001b[0m\u001b[0;34m=\u001b[0m\u001b[0;32mTrue\u001b[0m\u001b[0;34m)\u001b[0m\u001b[0;34m\u001b[0m\u001b[0;34m\u001b[0m\u001b[0m\n",
      "\u001b[0;31mKeyboardInterrupt\u001b[0m: Interrupted by user"
     ]
    }
   ],
   "source": [
    "if __name__ == \"__main__\":\n",
    "    downloader()"
   ]
  }
 ],
 "metadata": {
  "kernelspec": {
   "display_name": "Python 3",
   "language": "python",
   "name": "python3"
  },
  "language_info": {
   "codemirror_mode": {
    "name": "ipython",
    "version": 3
   },
   "file_extension": ".py",
   "mimetype": "text/x-python",
   "name": "python",
   "nbconvert_exporter": "python",
   "pygments_lexer": "ipython3",
   "version": "3.8.5"
  }
 },
 "nbformat": 4,
 "nbformat_minor": 4
}
